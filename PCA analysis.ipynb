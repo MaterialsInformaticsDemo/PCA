{
 "cells": [
  {
   "cell_type": "markdown",
   "id": "b08a32bc-81d3-4ad8-ba2a-afd067573a63",
   "metadata": {},
   "source": [
    "# only centralized"
   ]
  },
  {
   "cell_type": "code",
   "execution_count": 7,
   "id": "aeddbb60-8a45-492d-809b-f953a879b438",
   "metadata": {},
   "outputs": [
    {
     "name": "stdout",
     "output_type": "stream",
     "text": [
      "中心化后的协方差矩阵：\n",
      " [[ 1.783050e-01 -5.302375e+01]\n",
      " [-5.302375e+01  3.848000e+04]]\n",
      "PCA向量：\n",
      " [[-0.00137796  0.99999905]\n",
      " [ 0.99999905  0.00137796]]\n",
      "PCA方差：\n",
      " [3.84800731e+04 1.05240401e-01]\n",
      "投影后的坐标：\n",
      " [[-1.18999920e+02 -1.39977089e-01]\n",
      " [-1.19000010e+02 -7.49771509e-02]\n",
      " [-4.89996214e+01 -3.08519740e-01]\n",
      " [-5.90008107e+01  5.47699849e-01]\n",
      " [ 3.46000362e+02 -2.42258690e-02]]\n"
     ]
    }
   ],
   "source": [
    "import numpy as np\n",
    "from sklearn.decomposition import PCA\n",
    "\n",
    "# 原始两列数据\n",
    "x = np.array([8.895, 8.960, 8.630, 9.500, 8.370])\n",
    "y = np.array([40, 40, 110, 100, 505])\n",
    "\n",
    "# 合并数据为矩阵\n",
    "data = np.vstack((x, y)).T\n",
    "\n",
    "# 1. 数据中心化 (减去每列的均值)\n",
    "data_mean = np.mean(data, axis=0)\n",
    "data_centered = data - data_mean\n",
    "\n",
    "# 2. 计算中心化后数据的协方差矩阵\n",
    "cov_matrix_centered = np.cov(data_centered, rowvar=False)\n",
    "print(\"中心化后的协方差矩阵：\\n\", cov_matrix_centered)\n",
    "\n",
    "# 3. 计算PCA\n",
    "pca = PCA()\n",
    "pca.fit(data_centered)\n",
    "\n",
    "# 4. 获取PCA向量和方差\n",
    "pca_components = pca.components_\n",
    "pca_variance = pca.explained_variance_\n",
    "\n",
    "print(\"PCA向量：\\n\", pca_components)\n",
    "print(\"PCA方差：\\n\", pca_variance)\n",
    "\n",
    "# 5. 计算原数据在PCA空间中的投影坐标\n",
    "pca_projection = pca.transform(data_centered)\n",
    "print(\"投影后的坐标：\\n\", pca_projection)\n"
   ]
  },
  {
   "cell_type": "markdown",
   "id": "844d0879-5eff-4799-a7a9-683d33600074",
   "metadata": {},
   "source": [
    "# Standardized "
   ]
  },
  {
   "cell_type": "code",
   "execution_count": 14,
   "id": "b8c2b12e-532b-40d3-969e-dbb1d6ae7a59",
   "metadata": {},
   "outputs": [
    {
     "name": "stdout",
     "output_type": "stream",
     "text": [
      "标准化后数据的协方差矩阵：\n",
      " [[ 1.         -0.64013437]\n",
      " [-0.64013437  1.        ]]\n",
      "PCA向量：\n",
      " [[-0.70710678  0.70710678]\n",
      " [ 0.70710678  0.70710678]]\n",
      "PCA方差：\n",
      " [2.05016796 0.44983204]\n",
      "投影后的坐标：\n",
      " [[-0.52452267 -0.43465583]\n",
      " [-0.64621735 -0.31296114]\n",
      " [ 0.25372851 -0.64868437]\n",
      " [-1.41540963  0.93985054]\n",
      " [ 2.33242114  0.45645079]]\n"
     ]
    }
   ],
   "source": [
    "import numpy as np\n",
    "from sklearn.decomposition import PCA\n",
    "\n",
    "# 原始两列数据\n",
    "x = np.array([8.895, 8.960, 8.630, 9.500, 8.370])\n",
    "y = np.array([40, 40, 110, 100, 505])\n",
    "\n",
    "# 合并数据为矩阵\n",
    "data = np.vstack((x, y)).T\n",
    "\n",
    "# 1. 数据标准化 (减去均值并除以标准差)\n",
    "data_mean = np.mean(data, axis=0)\n",
    "data_std = np.std(data, axis=0)\n",
    "data_standardized = (data - data_mean) / data_std\n",
    "\n",
    "# 2. 计算标准化后数据的协方差矩阵\n",
    "cov_matrix_standardized = np.cov(data_standardized, rowvar=False)\n",
    "print(\"标准化后数据的协方差矩阵：\\n\", cov_matrix_standardized/1.25)\n",
    "\n",
    "# 3. 计算PCA\n",
    "pca = PCA()\n",
    "pca.fit(data_standardized)\n",
    "\n",
    "# 4. 获取PCA向量和方差\n",
    "pca_components = pca.components_\n",
    "pca_variance = pca.explained_variance_\n",
    "\n",
    "print(\"PCA向量：\\n\", pca_components)\n",
    "print(\"PCA方差：\\n\", pca_variance)\n",
    "\n",
    "# 5. 计算原数据在PCA空间中的投影坐标\n",
    "pca_projection = pca.transform(data_standardized)\n",
    "print(\"投影后的坐标：\\n\", pca_projection)\n"
   ]
  },
  {
   "cell_type": "markdown",
   "id": "ffcd39d0-1442-4f12-9c7c-d582e7d7a49a",
   "metadata": {},
   "source": [
    "# PCA 默认中心化，这里我们手动实现"
   ]
  },
  {
   "cell_type": "markdown",
   "id": "4558e3f1-b8ab-44e9-88ba-e928772419ad",
   "metadata": {},
   "source": [
    "# Nor then Cent"
   ]
  },
  {
   "cell_type": "code",
   "execution_count": 21,
   "id": "314f91b8-f518-4fdf-9b6c-e1b503b7684e",
   "metadata": {},
   "outputs": [
    {
     "name": "stdout",
     "output_type": "stream",
     "text": [
      "归一化并中心化后的协方差矩阵：\n",
      " [[ 0.13963897 -0.10091112]\n",
      " [-0.10091112  0.17796277]]\n",
      "PCA向量：\n",
      " [[-0.63774788  0.77024518]\n",
      " [ 0.77024518  0.63774788]]\n",
      "PCA方差：\n",
      " [0.2615152  0.05608654]\n",
      "投影后的坐标：\n",
      " [[-0.2106616  -0.14684941]\n",
      " [-0.24734621 -0.10254327]\n",
      " [ 0.05484963 -0.23147707]\n",
      " [-0.45272421  0.34782855]\n",
      " [ 0.85588238  0.1330412 ]]\n"
     ]
    }
   ],
   "source": [
    "import numpy as np\n",
    "from sklearn.decomposition import PCA\n",
    "\n",
    "# 原始两列数据\n",
    "x = np.array([8.895, 8.960, 8.630, 9.500, 8.370])\n",
    "y = np.array([40, 40, 110, 100, 505])\n",
    "\n",
    "# 合并数据为矩阵\n",
    "data = np.vstack((x, y)).T\n",
    "\n",
    "# 1. 数据归一化 (缩放到 [0, 1])\n",
    "data_min = np.min(data, axis=0)\n",
    "data_max = np.max(data, axis=0)\n",
    "data_normalized = (data - data_min) / (data_max - data_min)\n",
    "\n",
    "# 2. 数据中心化 (减去归一化后数据的均值)\n",
    "data_centered = data_normalized - np.mean(data_normalized, axis=0)\n",
    "\n",
    "# 3. 计算中心化后数据的协方差矩阵\n",
    "cov_matrix_centered = np.cov(data_centered, rowvar=False)\n",
    "print(\"归一化并中心化后的协方差矩阵：\\n\", cov_matrix_centered)\n",
    "\n",
    "# 4. 计算PCA\n",
    "pca = PCA()\n",
    "pca.fit(data_centered)\n",
    "\n",
    "# 5. 获取PCA向量和方差\n",
    "pca_components = pca.components_\n",
    "pca_variance = pca.explained_variance_\n",
    "\n",
    "print(\"PCA向量：\\n\", pca_components)\n",
    "print(\"PCA方差：\\n\", pca_variance)\n",
    "\n",
    "# 6. 计算原数据在PCA空间中的投影坐标\n",
    "pca_projection = pca.transform(data_centered)\n",
    "print(\"投影后的坐标：\\n\", pca_projection)\n"
   ]
  },
  {
   "cell_type": "markdown",
   "id": "c63acfd5-295d-4181-b6ef-508abd5c1f87",
   "metadata": {},
   "source": [
    "# Cent then Scal"
   ]
  },
  {
   "cell_type": "code",
   "execution_count": 22,
   "id": "f8de119b-6c69-44cf-9d6a-dc4d9c78c026",
   "metadata": {},
   "outputs": [
    {
     "name": "stdout",
     "output_type": "stream",
     "text": [
      "中心化并归一化后的协方差矩阵：\n",
      " [[ 0.45067372 -0.24363725]\n",
      " [-0.24363725  0.32142738]]\n",
      "PCA向量：\n",
      " [[-0.79258376  0.60976305]\n",
      " [ 0.60976305  0.79258376]]\n",
      "PCA方差：\n",
      " [0.63811257 0.13398852]\n",
      "投影后的坐标：\n",
      " [[-0.23995786 -0.24932784]\n",
      " [-0.32186239 -0.18631576]\n",
      " [ 0.21732304 -0.34587393]\n",
      " [-0.8965607   0.47461148]\n",
      " [ 1.24105791  0.30690604]]\n"
     ]
    }
   ],
   "source": [
    "import numpy as np\n",
    "from sklearn.decomposition import PCA\n",
    "\n",
    "# 原始两列数据\n",
    "x = np.array([8.895, 8.960, 8.630, 9.500, 8.370])\n",
    "y = np.array([40, 40, 110, 100, 505])\n",
    "\n",
    "# 合并数据为矩阵\n",
    "data = np.vstack((x, y)).T\n",
    "\n",
    "# 1. 数据中心化 (减去每列的均值)\n",
    "data_mean = np.mean(data, axis=0)\n",
    "data_centered = data - data_mean\n",
    "\n",
    "# 2. 数据scale\n",
    "data_min = np.min(data_centered, axis=0)\n",
    "data_max = np.max(data_centered, axis=0)\n",
    "data_normalized = data_centered  / data_max \n",
    "\n",
    "# 3. 计算归一化后数据的协方差矩阵\n",
    "cov_matrix_normalized = np.cov(data_normalized, rowvar=False)\n",
    "print(\"中心化并归一化后的协方差矩阵：\\n\", cov_matrix_normalized)\n",
    "\n",
    "# 4. 计算PCA\n",
    "pca = PCA()\n",
    "pca.fit(data_normalized)\n",
    "\n",
    "# 5. 获取PCA向量和方差\n",
    "pca_components = pca.components_\n",
    "pca_variance = pca.explained_variance_\n",
    "\n",
    "print(\"PCA向量：\\n\", pca_components)\n",
    "print(\"PCA方差：\\n\", pca_variance)\n",
    "\n",
    "# 6. 计算原数据在PCA空间中的投影坐标\n",
    "pca_projection = pca.transform(data_normalized)\n",
    "print(\"投影后的坐标：\\n\", pca_projection)\n"
   ]
  },
  {
   "cell_type": "raw",
   "id": "be55b8a2-acb6-4895-920e-94663d905669",
   "metadata": {},
   "source": []
  }
 ],
 "metadata": {
  "kernelspec": {
   "display_name": "Python 3 (ipykernel)",
   "language": "python",
   "name": "python3"
  },
  "language_info": {
   "codemirror_mode": {
    "name": "ipython",
    "version": 3
   },
   "file_extension": ".py",
   "mimetype": "text/x-python",
   "name": "python",
   "nbconvert_exporter": "python",
   "pygments_lexer": "ipython3",
   "version": "3.11.7"
  }
 },
 "nbformat": 4,
 "nbformat_minor": 5
}
